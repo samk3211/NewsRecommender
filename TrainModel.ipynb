{
 "cells": [
  {
   "cell_type": "code",
   "execution_count": 1,
   "metadata": {},
   "outputs": [
    {
     "data": {
      "text/html": [
       "<div>\n",
       "<style scoped>\n",
       "    .dataframe tbody tr th:only-of-type {\n",
       "        vertical-align: middle;\n",
       "    }\n",
       "\n",
       "    .dataframe tbody tr th {\n",
       "        vertical-align: top;\n",
       "    }\n",
       "\n",
       "    .dataframe thead th {\n",
       "        text-align: right;\n",
       "    }\n",
       "</style>\n",
       "<table border=\"1\" class=\"dataframe\">\n",
       "  <thead>\n",
       "    <tr style=\"text-align: right;\">\n",
       "      <th></th>\n",
       "      <th>author</th>\n",
       "      <th>content</th>\n",
       "      <th>description</th>\n",
       "      <th>publishedAt</th>\n",
       "      <th>score</th>\n",
       "      <th>source</th>\n",
       "      <th>title</th>\n",
       "      <th>urlToImage</th>\n",
       "      <th>click</th>\n",
       "      <th>view</th>\n",
       "    </tr>\n",
       "    <tr>\n",
       "      <th>url</th>\n",
       "      <th></th>\n",
       "      <th></th>\n",
       "      <th></th>\n",
       "      <th></th>\n",
       "      <th></th>\n",
       "      <th></th>\n",
       "      <th></th>\n",
       "      <th></th>\n",
       "      <th></th>\n",
       "      <th></th>\n",
       "    </tr>\n",
       "  </thead>\n",
       "  <tbody>\n",
       "    <tr>\n",
       "      <th>https://www.newscientist.com/article/2192364-weve-hacked-the-curiosity-rover-to-learn-how-mountains-form-on-mars/</th>\n",
       "      <td>Leah Crane</td>\n",
       "      <td>NASA/JPL-Caltech/MSSS\\r\\nBy Leah Crane\\r\\nHack...</td>\n",
       "      <td>Hacking the Curiosity rover let researchers me...</td>\n",
       "      <td>2019-01-31T00:00:00Z</td>\n",
       "      <td>0.994937</td>\n",
       "      <td>{'id': 'new-scientist', 'name': 'New Scientist'}</td>\n",
       "      <td>We’ve hacked the Curiosity rover to learn how ...</td>\n",
       "      <td>https://images.newscientist.com/wp-content/upl...</td>\n",
       "      <td>0</td>\n",
       "      <td>3</td>\n",
       "    </tr>\n",
       "    <tr>\n",
       "      <th>https://www.newscientist.com/article/mg24132153-400-people-are-seeking-sperm-donors-online-but-are-the-risks-worth-it/</th>\n",
       "      <td>Clare Wilson</td>\n",
       "      <td>Using a private donor offers more control but ...</td>\n",
       "      <td>Meeting your sperm donor offers a more persona...</td>\n",
       "      <td>2019-01-30T00:00:00Z</td>\n",
       "      <td>0.980446</td>\n",
       "      <td>{'id': 'new-scientist', 'name': 'New Scientist'}</td>\n",
       "      <td>People are seeking sperm donors online, but ar...</td>\n",
       "      <td>https://images.newscientist.com/wp-content/upl...</td>\n",
       "      <td>0</td>\n",
       "      <td>3</td>\n",
       "    </tr>\n",
       "    <tr>\n",
       "      <th>https://www.techradar.com/news/how-to-watch-super-bowl-2018-online-live-stream-from-anywhere-in-the-world</th>\n",
       "      <td>Adam Marshall</td>\n",
       "      <td>If you've landed on this page then it's becaus...</td>\n",
       "      <td>We're only days away from Super Bowl LIII</td>\n",
       "      <td>2019-01-31T12:55:58Z</td>\n",
       "      <td>0.970902</td>\n",
       "      <td>{'id': 'techradar', 'name': 'TechRadar'}</td>\n",
       "      <td>Super Bowl 2019 live stream: how to watch Patr...</td>\n",
       "      <td>https://cdn.mos.cms.futurecdn.net/EEzMhpYjpraz...</td>\n",
       "      <td>0</td>\n",
       "      <td>3</td>\n",
       "    </tr>\n",
       "    <tr>\n",
       "      <th>https://www.recode.net/2019/1/30/18204501/mellody-hobson-corporate-suicide-diversity</th>\n",
       "      <td>Theodore Schleifer</td>\n",
       "      <td>Mellody Hobson is one of the most prominent bl...</td>\n",
       "      <td>Hobson is one of the most prominent black wome...</td>\n",
       "      <td>2019-01-31T02:02:02Z</td>\n",
       "      <td>0.963000</td>\n",
       "      <td>{'id': 'recode', 'name': 'Recode'}</td>\n",
       "      <td>Mellody Hobson thinks too many all-white, all-...</td>\n",
       "      <td>https://cdn.vox-cdn.com/thumbor/ITuU1583yeQEJc...</td>\n",
       "      <td>0</td>\n",
       "      <td>3</td>\n",
       "    </tr>\n",
       "    <tr>\n",
       "      <th>https://www.recode.net/2019/1/30/18204484/facebook-zuckerberg-products-earnings-q4-2018-priorities</th>\n",
       "      <td>Kurt Wagner</td>\n",
       "      <td>Mark Zuckerberg did not sound like a man who i...</td>\n",
       "      <td>After two years of dealing with Russia and fak...</td>\n",
       "      <td>2019-01-31T01:45:00Z</td>\n",
       "      <td>0.952278</td>\n",
       "      <td>{'id': 'recode', 'name': 'Recode'}</td>\n",
       "      <td>Mark Zuckerberg wants to get back to building ...</td>\n",
       "      <td>https://cdn.vox-cdn.com/thumbor/ZaxCTKUG928PoJ...</td>\n",
       "      <td>2</td>\n",
       "      <td>3</td>\n",
       "    </tr>\n",
       "  </tbody>\n",
       "</table>\n",
       "</div>"
      ],
      "text/plain": [
       "                                                                author  \\\n",
       "url                                                                      \n",
       "https://www.newscientist.com/article/2192364-we...          Leah Crane   \n",
       "https://www.newscientist.com/article/mg24132153...        Clare Wilson   \n",
       "https://www.techradar.com/news/how-to-watch-sup...       Adam Marshall   \n",
       "https://www.recode.net/2019/1/30/18204501/mello...  Theodore Schleifer   \n",
       "https://www.recode.net/2019/1/30/18204484/faceb...         Kurt Wagner   \n",
       "\n",
       "                                                                                              content  \\\n",
       "url                                                                                                     \n",
       "https://www.newscientist.com/article/2192364-we...  NASA/JPL-Caltech/MSSS\\r\\nBy Leah Crane\\r\\nHack...   \n",
       "https://www.newscientist.com/article/mg24132153...  Using a private donor offers more control but ...   \n",
       "https://www.techradar.com/news/how-to-watch-sup...  If you've landed on this page then it's becaus...   \n",
       "https://www.recode.net/2019/1/30/18204501/mello...  Mellody Hobson is one of the most prominent bl...   \n",
       "https://www.recode.net/2019/1/30/18204484/faceb...  Mark Zuckerberg did not sound like a man who i...   \n",
       "\n",
       "                                                                                          description  \\\n",
       "url                                                                                                     \n",
       "https://www.newscientist.com/article/2192364-we...  Hacking the Curiosity rover let researchers me...   \n",
       "https://www.newscientist.com/article/mg24132153...  Meeting your sperm donor offers a more persona...   \n",
       "https://www.techradar.com/news/how-to-watch-sup...          We're only days away from Super Bowl LIII   \n",
       "https://www.recode.net/2019/1/30/18204501/mello...  Hobson is one of the most prominent black wome...   \n",
       "https://www.recode.net/2019/1/30/18204484/faceb...  After two years of dealing with Russia and fak...   \n",
       "\n",
       "                                                             publishedAt  \\\n",
       "url                                                                        \n",
       "https://www.newscientist.com/article/2192364-we...  2019-01-31T00:00:00Z   \n",
       "https://www.newscientist.com/article/mg24132153...  2019-01-30T00:00:00Z   \n",
       "https://www.techradar.com/news/how-to-watch-sup...  2019-01-31T12:55:58Z   \n",
       "https://www.recode.net/2019/1/30/18204501/mello...  2019-01-31T02:02:02Z   \n",
       "https://www.recode.net/2019/1/30/18204484/faceb...  2019-01-31T01:45:00Z   \n",
       "\n",
       "                                                       score  \\\n",
       "url                                                            \n",
       "https://www.newscientist.com/article/2192364-we...  0.994937   \n",
       "https://www.newscientist.com/article/mg24132153...  0.980446   \n",
       "https://www.techradar.com/news/how-to-watch-sup...  0.970902   \n",
       "https://www.recode.net/2019/1/30/18204501/mello...  0.963000   \n",
       "https://www.recode.net/2019/1/30/18204484/faceb...  0.952278   \n",
       "\n",
       "                                                                                              source  \\\n",
       "url                                                                                                    \n",
       "https://www.newscientist.com/article/2192364-we...  {'id': 'new-scientist', 'name': 'New Scientist'}   \n",
       "https://www.newscientist.com/article/mg24132153...  {'id': 'new-scientist', 'name': 'New Scientist'}   \n",
       "https://www.techradar.com/news/how-to-watch-sup...          {'id': 'techradar', 'name': 'TechRadar'}   \n",
       "https://www.recode.net/2019/1/30/18204501/mello...                {'id': 'recode', 'name': 'Recode'}   \n",
       "https://www.recode.net/2019/1/30/18204484/faceb...                {'id': 'recode', 'name': 'Recode'}   \n",
       "\n",
       "                                                                                                title  \\\n",
       "url                                                                                                     \n",
       "https://www.newscientist.com/article/2192364-we...  We’ve hacked the Curiosity rover to learn how ...   \n",
       "https://www.newscientist.com/article/mg24132153...  People are seeking sperm donors online, but ar...   \n",
       "https://www.techradar.com/news/how-to-watch-sup...  Super Bowl 2019 live stream: how to watch Patr...   \n",
       "https://www.recode.net/2019/1/30/18204501/mello...  Mellody Hobson thinks too many all-white, all-...   \n",
       "https://www.recode.net/2019/1/30/18204484/faceb...  Mark Zuckerberg wants to get back to building ...   \n",
       "\n",
       "                                                                                           urlToImage  \\\n",
       "url                                                                                                     \n",
       "https://www.newscientist.com/article/2192364-we...  https://images.newscientist.com/wp-content/upl...   \n",
       "https://www.newscientist.com/article/mg24132153...  https://images.newscientist.com/wp-content/upl...   \n",
       "https://www.techradar.com/news/how-to-watch-sup...  https://cdn.mos.cms.futurecdn.net/EEzMhpYjpraz...   \n",
       "https://www.recode.net/2019/1/30/18204501/mello...  https://cdn.vox-cdn.com/thumbor/ITuU1583yeQEJc...   \n",
       "https://www.recode.net/2019/1/30/18204484/faceb...  https://cdn.vox-cdn.com/thumbor/ZaxCTKUG928PoJ...   \n",
       "\n",
       "                                                    click  view  \n",
       "url                                                              \n",
       "https://www.newscientist.com/article/2192364-we...      0     3  \n",
       "https://www.newscientist.com/article/mg24132153...      0     3  \n",
       "https://www.techradar.com/news/how-to-watch-sup...      0     3  \n",
       "https://www.recode.net/2019/1/30/18204501/mello...      0     3  \n",
       "https://www.recode.net/2019/1/30/18204484/faceb...      2     3  "
      ]
     },
     "execution_count": 1,
     "metadata": {},
     "output_type": "execute_result"
    }
   ],
   "source": [
    "import pandas as pd\n",
    "\n",
    "reqs = pd.read_json('training/requests.txt', lines=True, orient='records')\n",
    "reqs.set_index('url', inplace=True)\n",
    "reqs = reqs[~reqs.index.duplicated(keep='first')]\n",
    "\n",
    "fb = pd.read_json('training/feedback.txt', lines=True, orient='records')\n",
    "fb.drop(columns=['time'], inplace=True)\n",
    "fb = fb.pivot_table(index='url', columns='action', aggfunc=len, fill_value=0)\n",
    "\n",
    "df = reqs.join(fb, how='inner')\n",
    "df.head()"
   ]
  },
  {
   "cell_type": "code",
   "execution_count": 2,
   "metadata": {},
   "outputs": [
    {
     "data": {
      "text/plain": [
       "516"
      ]
     },
     "execution_count": 2,
     "metadata": {},
     "output_type": "execute_result"
    }
   ],
   "source": [
    "len(df)"
   ]
  },
  {
   "cell_type": "code",
   "execution_count": 3,
   "metadata": {},
   "outputs": [
    {
     "data": {
      "text/plain": [
       "array([0, 0, 0, 0, 1, 0, 0, 0, 0, 0, 0, 0, 0, 0, 0, 0, 0, 0, 0, 0, 0, 0,\n",
       "       0, 0, 0, 0, 1, 0, 0, 0, 0, 0, 0, 0, 0, 0, 0, 1, 0, 1, 0, 1, 0, 0,\n",
       "       0, 0, 1, 0, 0, 0, 0, 0, 0, 0, 0, 1, 0, 0, 1, 1, 0, 0, 0, 0, 0, 1,\n",
       "       0, 0, 0, 0, 0, 0, 0, 0, 0, 0, 1, 0, 0, 1, 0, 0, 0, 0, 1, 0, 0, 0,\n",
       "       0, 0, 0, 0, 0, 0, 0, 0, 0, 0, 0, 0, 0, 0, 0, 0, 0, 0, 0, 0, 0, 0,\n",
       "       0, 0, 0, 0, 0, 0, 0, 1, 0, 0, 1, 1, 0, 1, 0, 0, 0, 0, 0, 0, 0, 0,\n",
       "       0, 0, 0, 0, 0, 0, 0, 0, 0, 0, 0, 0, 0, 0, 0, 0, 0, 0, 0, 0, 0, 0,\n",
       "       0, 0, 0, 0, 0, 0, 0, 0, 0, 0, 0, 0, 1, 0, 0, 0, 0, 0, 0, 0, 0, 0,\n",
       "       0, 0, 0, 0, 0, 0, 0, 0, 0, 0, 0, 0, 0, 0, 0, 0, 0, 0, 0, 0, 0, 0,\n",
       "       0, 0, 0, 0, 0, 0, 1, 0, 0, 0, 0, 0, 0, 0, 0, 0, 1, 0, 0, 0, 0, 0,\n",
       "       0, 0, 0, 0, 0, 0, 0, 0, 0, 0, 0, 0, 0, 0, 0, 0, 0, 0, 0, 0, 0, 0,\n",
       "       0, 0, 0, 0, 0, 0, 1, 0, 1, 0, 0, 1, 0, 0, 0, 0, 1, 0, 0, 0, 0, 0,\n",
       "       0, 0, 0, 1, 0, 0, 0, 0, 0, 0, 0, 0, 0, 0, 0, 0, 0, 0, 0, 0, 0, 0,\n",
       "       0, 0, 0, 0, 0, 0, 0, 0, 0, 0, 0, 0, 0, 0, 0, 0, 1, 0, 0, 0, 0, 0,\n",
       "       0, 0, 0, 0, 0, 0, 0, 0, 0, 0, 1, 0, 0, 0, 0, 0, 0, 0, 0, 0, 0, 0,\n",
       "       1, 1, 0, 0, 0, 0, 0, 0, 0, 0, 0, 0, 0, 0, 0, 0, 0, 0, 0, 0, 0, 0,\n",
       "       0, 0, 0, 0, 0, 1, 0, 0, 1, 0, 0, 0, 0, 0, 1, 0, 0, 0, 1, 0, 0, 0,\n",
       "       0, 0, 1, 0, 1, 0, 0, 0, 1, 1, 0, 0, 0, 0, 0, 0, 0, 0, 0, 1, 0, 0,\n",
       "       0, 1, 1, 0, 0, 0, 0, 0, 1, 0, 0, 0, 0, 0, 0, 0, 0, 0, 0, 0, 0, 0,\n",
       "       0, 0, 0, 0, 0, 0, 0, 0, 0, 0, 1, 0, 0, 0, 1, 1, 1, 0, 0, 0, 1, 1,\n",
       "       1, 1, 1, 0, 0, 0, 0, 0, 0, 0, 1, 1, 0, 1, 0, 0, 1, 0, 0, 0, 0, 0,\n",
       "       0, 0, 0, 0, 0, 1, 1, 0, 0, 0, 0, 0, 0, 0, 0, 0, 0, 0, 0, 0, 0, 0,\n",
       "       0, 0, 0, 0, 0, 0, 0, 0, 0, 0, 0, 0, 0, 0, 0, 0, 0, 0, 0, 0, 0, 0,\n",
       "       0, 0, 0, 0, 0, 0, 0, 0, 0, 0])"
      ]
     },
     "execution_count": 3,
     "metadata": {},
     "output_type": "execute_result"
    }
   ],
   "source": [
    "y = (df['click'] > 0).astype(int).values\n",
    "y"
   ]
  },
  {
   "cell_type": "code",
   "execution_count": 4,
   "metadata": {},
   "outputs": [
    {
     "data": {
      "text/plain": [
       "entities    {'PERSON:mark zuckerberg': 1, 'ORG:facebook': ...\n",
       "keyterms    {'facebook': 0.12879847130043015, 'zuckerberg'...\n",
       "vector      [0.026049499933772736, 0.03671961805205427, 0....\n",
       "text        Mark Zuckerberg wants to get back to building ...\n",
       "Name: https://www.recode.net/2019/1/30/18204484/facebook-zuckerberg-products-earnings-q4-2018-priorities, dtype: object"
      ]
     },
     "execution_count": 4,
     "metadata": {},
     "output_type": "execute_result"
    }
   ],
   "source": [
    "import numpy as np\n",
    "from nlp import featurize\n",
    "\n",
    "ft_cols = ['entities', 'keyterms', 'vector', 'text']\n",
    "def flatten(x):\n",
    "    return [x[c] for c in ft_cols]\n",
    "\n",
    "features = df.apply(lambda x: pd.Series(flatten(featurize(x['title'] + ' ' + x['description'])), index=ft_cols), axis=1)\n",
    "features.iloc[4]"
   ]
  },
  {
   "cell_type": "code",
   "execution_count": 5,
   "metadata": {},
   "outputs": [],
   "source": [
    "from sklearn.model_selection import train_test_split\n",
    "from sklearn.pipeline import make_pipeline\n",
    "from sklearn.metrics import confusion_matrix\n",
    "\n",
    "from sklearn.feature_extraction import DictVectorizer\n",
    "from sklearn.feature_extraction.text import TfidfTransformer\n",
    "from sklearn.feature_extraction.text import TfidfVectorizer\n",
    "from sklearn.feature_extraction import FeatureHasher\n",
    "\n",
    "from sklearn.linear_model import LogisticRegression\n",
    "from sklearn.ensemble import GradientBoostingClassifier\n",
    "\n",
    "from joblib import dump\n",
    "\n",
    "import matplotlib.pyplot as plt\n",
    "import itertools\n",
    "\n",
    "def plot_confusion_matrix(cm, classes=['No-Click', 'Click'],\n",
    "                          normalize=False,\n",
    "                          title='Confusion matrix',\n",
    "                          cmap=plt.cm.Blues):\n",
    "    \"\"\"\n",
    "    This function prints and plots the confusion matrix.\n",
    "    Normalization can be applied by setting `normalize=True`.\n",
    "    \"\"\"\n",
    "    if normalize:\n",
    "        cm = cm.astype('float') / cm.sum(axis=1)[:, np.newaxis]\n",
    "\n",
    "    plt.imshow(cm, interpolation='nearest', cmap=cmap)\n",
    "    plt.title(title)\n",
    "    plt.colorbar()\n",
    "    tick_marks = np.arange(len(classes))\n",
    "    plt.xticks(tick_marks, classes, rotation=45)\n",
    "    plt.yticks(tick_marks, classes)\n",
    "\n",
    "    fmt = '.2f' if normalize else 'd'\n",
    "    thresh = cm.max() / 2.\n",
    "    for i, j in itertools.product(range(cm.shape[0]), range(cm.shape[1])):\n",
    "        plt.text(j, i, format(cm[i, j], fmt),\n",
    "                 horizontalalignment=\"center\",\n",
    "                 color=\"white\" if cm[i, j] > thresh else \"black\")\n",
    "\n",
    "    plt.ylabel('True label')\n",
    "    plt.xlabel('Predicted label')\n",
    "    plt.tight_layout()\n"
   ]
  },
  {
   "cell_type": "code",
   "execution_count": 6,
   "metadata": {},
   "outputs": [],
   "source": [
    "F_train, F_test, y_train, y_test = train_test_split(features, y, test_size=0.20, random_state=42)"
   ]
  },
  {
   "cell_type": "code",
   "execution_count": 7,
   "metadata": {},
   "outputs": [
    {
     "data": {
      "image/png": "[encoded data removed]",
      "text/plain": [
       "<Figure size 432x288 with 2 Axes>"
      ]
     },
     "metadata": {},
     "output_type": "display_data"
    }
   ],
   "source": [
    "enty_pipeline = make_pipeline(\n",
    "    DictVectorizer(), \n",
    "    TfidfTransformer(),\n",
    "    GradientBoostingClassifier())\n",
    "enty_pipeline.fit(F_train['entities'], y_train)\n",
    "dump(enty_pipeline, 'training/entities.joblib')\n",
    "\n",
    "y_enty_train = enty_pipeline.predict(F_train['entities'])\n",
    "y_enty_test = enty_pipeline.predict(F_test['entities'])\n",
    "\n",
    "plot_confusion_matrix(confusion_matrix(y_test, y_enty_test))"
   ]
  },
  {
   "cell_type": "code",
   "execution_count": 8,
   "metadata": {},
   "outputs": [
    {
     "data": {
      "image/png": "[encoded data removed]",
      "text/plain": [
       "<Figure size 432x288 with 2 Axes>"
      ]
     },
     "metadata": {},
     "output_type": "display_data"
    }
   ],
   "source": [
    "term_pipeline = make_pipeline(\n",
    "    FeatureHasher(n_features=100, input_type='string'),\n",
    "    GradientBoostingClassifier())\n",
    "term_pipeline.fit(F_train['keyterms'], y_train)\n",
    "dump(term_pipeline, 'training/keyterms.joblib')\n",
    "\n",
    "y_terms_train = term_pipeline.predict(F_train['keyterms'])\n",
    "y_terms_test = term_pipeline.predict(F_test['keyterms'])\n",
    "\n",
    "plot_confusion_matrix(confusion_matrix(y_test, y_terms_test))"
   ]
  },
  {
   "cell_type": "code",
   "execution_count": 9,
   "metadata": {},
   "outputs": [
    {
     "data": {
      "image/png": "[encoded data removed]",
      "text/plain": [
       "<Figure size 432x288 with 2 Axes>"
      ]
     },
     "metadata": {},
     "output_type": "display_data"
    }
   ],
   "source": [
    "vec_pipeline = LogisticRegression(class_weight='balanced', solver='liblinear')\n",
    "vec_pipeline.fit(np.stack(F_train['vector']), y_train)\n",
    "dump(vec_pipeline, 'training/vector.joblib')\n",
    "\n",
    "y_vec_train = vec_pipeline.predict(np.stack(F_train['vector']))\n",
    "y_vec_test = vec_pipeline.predict(np.stack(F_test['vector']))\n",
    "\n",
    "plot_confusion_matrix(confusion_matrix(y_test, y_vec_test))"
   ]
  },
  {
   "cell_type": "code",
   "execution_count": 10,
   "metadata": {},
   "outputs": [
    {
     "data": {
      "image/png": "[encoded data removed]",
      "text/plain": [
       "<Figure size 432x288 with 2 Axes>"
      ]
     },
     "metadata": {},
     "output_type": "display_data"
    }
   ],
   "source": [
    "X_stack_train = np.column_stack([y_enty_train, y_terms_train, y_vec_train])\n",
    "X_stack_test = np.column_stack([y_enty_test, y_terms_test, y_vec_test])\n",
    "\n",
    "stack_pipeline = LogisticRegression(class_weight='balanced', solver='liblinear')\n",
    "stack_pipeline.fit(X_stack_train, y_train)\n",
    "\n",
    "y_stack_test = stack_pipeline.predict(X_stack_test)\n",
    "\n",
    "plot_confusion_matrix(confusion_matrix(y_test, y_stack_test))"
   ]
  },
  {
   "cell_type": "code",
   "execution_count": 11,
   "metadata": {},
   "outputs": [],
   "source": [
    "#See https://www.kaggle.com/metadist/work-like-a-pro-with-pipelines-and-feature-unions\n",
    "\n",
    "from sklearn.base import BaseEstimator, TransformerMixin\n",
    "from sklearn.pipeline import Pipeline\n",
    "from sklearn.pipeline import FeatureUnion\n",
    "\n",
    "class ItemSelector(BaseEstimator, TransformerMixin):\n",
    "    \n",
    "    def __init__(self, key):\n",
    "        self.key = key\n",
    "\n",
    "    def fit(self, x, y=None):\n",
    "        return self\n",
    "\n",
    "    def transform(self, data_dict):\n",
    "        if self.key is \"vector\":\n",
    "            return np.stack(data_dict[self.key])\n",
    "        else:\n",
    "            return data_dict[self.key]\n",
    "    \n",
    "class ClassifierWrapper(BaseEstimator, TransformerMixin):\n",
    "    \n",
    "    def __init__(self, estimator, verbose=None, fit_params=None, use_proba=True, scoring=None):\n",
    "        self.estimator = estimator\n",
    "        self.verbose = verbose #True = 1, False = 0, 1 - moderately verbose, 2- extra verbose    \n",
    "        if verbose is None:\n",
    "            self.verbose=0\n",
    "        else:\n",
    "            self.verbose=verbose\n",
    "        self.fit_params= fit_params\n",
    "        self.use_proba = use_proba #whether to use predict_proba in transform\n",
    "        self.scoring = scoring # calculate validation score, takes score function name\n",
    "        #TODO check if scorer imported?\n",
    "        self.score = None #variable to keep the score if scoring is set.\n",
    "\n",
    "    def fit(self,X,y):\n",
    "        fp=self.fit_params\n",
    "        if self.verbose==2: print(\"X: \", X.shape, \"\\nFit params:\", self.fit_params)\n",
    "        \n",
    "        if fp is not None:\n",
    "            self.estimator.fit(X,y, **fp)\n",
    "        else:\n",
    "            self.estimator.fit(X,y)\n",
    "        \n",
    "        return self\n",
    "    \n",
    "    def transform(self, X):\n",
    "        if self.use_proba:\n",
    "            return self.estimator.predict_proba(X) #[:, 1].reshape(-1,1)\n",
    "        else:\n",
    "            return self.estimator.predict(X)\n",
    "    \n",
    "    def fit_transform(self,X,y,**kwargs):\n",
    "        self.fit(X,y)\n",
    "        p = self.transform(X)\n",
    "        if self.scoring is not None:\n",
    "            self.score = eval(self.scoring+\"(y,p)\")\n",
    "            #TODO print own instance name?\n",
    "            if self.verbose >0: print(\"score: \", self.score) \n",
    "        return p\n",
    "    \n",
    "    def predict(self,X):\n",
    "        return self.estimator.predict(X)\n",
    "    \n",
    "    def predict_proba(self,X):\n",
    "        return self.estimator.predict_proba(X)"
   ]
  },
  {
   "cell_type": "code",
   "execution_count": 12,
   "metadata": {},
   "outputs": [
    {
     "data": {
      "image/png": "[encoded data removed]",
      "text/plain": [
       "<Figure size 432x288 with 2 Axes>"
      ]
     },
     "metadata": {},
     "output_type": "display_data"
    }
   ],
   "source": [
    "pipeline = Pipeline([\n",
    "    ('union', FeatureUnion([\n",
    "        ('entities', Pipeline([\n",
    "            ('sel', ItemSelector(key='entities')),\n",
    "            ('dic', DictVectorizer()),\n",
    "            ('clf', ClassifierWrapper(GradientBoostingClassifier()))\n",
    "        ])),\n",
    "        ('keyterms', Pipeline([\n",
    "            ('sel', ItemSelector(key='keyterms')),\n",
    "            ('hsr', FeatureHasher(n_features=100, input_type='string')),\n",
    "            ('clf', ClassifierWrapper(GradientBoostingClassifier()))\n",
    "        ])),\n",
    "        ('vector', Pipeline([\n",
    "            ('sel', ItemSelector(key='vector')),\n",
    "            ('clf', ClassifierWrapper(LogisticRegression(class_weight='balanced', solver='liblinear')))\n",
    "        ]))\n",
    "    ])),\n",
    "    ('clf', LogisticRegression(class_weight='balanced', solver='liblinear'))\n",
    "])\n",
    "\n",
    "pipeline.fit(F_train, y_train)\n",
    "y_pred = pipeline.predict(F_test)\n",
    "plot_confusion_matrix(confusion_matrix(y_test, y_pred))"
   ]
  },
  {
   "cell_type": "code",
   "execution_count": null,
   "metadata": {},
   "outputs": [],
   "source": []
  }
 ],
 "metadata": {
  "kernelspec": {
   "display_name": "Python 3",
   "language": "python",
   "name": "python3"
  },
  "language_info": {
   "codemirror_mode": {
    "name": "ipython",
    "version": 3
   },
   "file_extension": ".py",
   "mimetype": "text/x-python",
   "name": "python",
   "nbconvert_exporter": "python",
   "pygments_lexer": "ipython3",
   "version": "3.6.5"
  }
 },
 "nbformat": 4,
 "nbformat_minor": 2
}
